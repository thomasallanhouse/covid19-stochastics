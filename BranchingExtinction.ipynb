{
 "cells": [
  {
   "cell_type": "markdown",
   "metadata": {},
   "source": [
    "# Extinction Probabilities for a Branching Process with Imports"
   ]
  },
  {
   "cell_type": "code",
   "execution_count": 1,
   "metadata": {},
   "outputs": [],
   "source": [
    "import numpy as np\n",
    "from scipy.integrate import odeint\n",
    "import matplotlib.pyplot as plt\n",
    "import random"
   ]
  },
  {
   "cell_type": "code",
   "execution_count": 2,
   "metadata": {},
   "outputs": [],
   "source": [
    "#parameters\n",
    "d= 1/7\n",
    "b= 3/7\n",
    "alpha = 1\n",
    "gamma=0.5\n",
    "t=np.linspace(0,10, num=1000)\n",
    "W0 = 5\n",
    "Z_init = 1\n",
    "numruns = 10000\n",
    "\n",
    "\n",
    "t_length = len(t)\n",
    "tmax = np.max(t)\n",
    "dt = tmax/t_length"
   ]
  },
  {
   "cell_type": "code",
   "execution_count": 3,
   "metadata": {},
   "outputs": [],
   "source": [
    "#Choices of time-dependent rates for beta, delta, eta\n",
    "no_immigration = np.zeros_like(t)\n",
    "delta = d*np.ones_like(t)\n",
    "beta_const = b*np.ones_like(t)\n",
    "beta_logistic = b/(1+5*np.exp(-t))\n",
    "eta_exp = W0*np.exp(-gamma*t)"
   ]
  },
  {
   "cell_type": "code",
   "execution_count": 4,
   "metadata": {},
   "outputs": [],
   "source": [
    "#Solve odes for analytic solutions\n",
    "def h(R, t):\n",
    "    u, z, r= R\n",
    "    beta = b/(1+5*np.exp(-alpha*t))\n",
    "    #beta = b #uncomment for constant growth rate\n",
    "    delta = d\n",
    "    eta = W0*np.exp(-gamma*t)\n",
    "   \n",
    " \n",
    "    drdt = [beta*np.exp(z), delta - beta, -eta*r]\n",
    "    return drdt\n",
    "initial_conditions = [0, 0, 1]\n",
    "R =  odeint(h, initial_conditions, t)\n",
    "q=1-(1/((np.exp(R[:,1])) + R[:,0]))\n",
    "\n",
    "rr = (q**Z_init)*(R[:,2]**(1-q))"
   ]
  },
  {
   "cell_type": "code",
   "execution_count": 5,
   "metadata": {},
   "outputs": [],
   "source": [
    "\n",
    "#Branching process with immigration\n",
    "def b_process_imgr(beta, delta, eta, Z_init, dt):\n",
    "    b_length=len(beta)\n",
    "    Z_count=np.zeros(b_length)\n",
    "    Z=Z_init\n",
    "    for i in range(0, b_length):\n",
    "        rand=random.uniform(0, 1)\n",
    "        b_prob = (beta[i]*Z + eta[i])*dt\n",
    "        d_prob = delta[i]*Z*dt\n",
    "        Z_count[i]=Z\n",
    "        if Z==0:\n",
    "            im_prob = eta[i]*dt\n",
    "            if rand<im_prob:\n",
    "                Z=Z+1\n",
    "        else:\n",
    "            if rand<b_prob:\n",
    "                Z=Z+1\n",
    "            elif b_prob<rand and rand<(d_prob+b_prob):\n",
    "                Z=Z-1\n",
    "            else:\n",
    "                Z=Z\n",
    "    return Z_count"
   ]
  },
  {
   "cell_type": "code",
   "execution_count": 6,
   "metadata": {},
   "outputs": [],
   "source": [
    "#Simulate numruns number of branching processes\n",
    "num_cases = np.zeros(numruns*t_length).reshape(numruns, t_length)\n",
    "num_cases_imgr = np.zeros(numruns*t_length).reshape(numruns, t_length)\n",
    "num_extinct = np.zeros_like(t)\n",
    "num_zero_at_t = np.zeros_like(t)\n",
    "for i in range(0, numruns):\n",
    "    num_cases_imgr[i,:] = b_process_imgr(beta_logistic, delta, eta_exp, Z_init, dt)\n",
    "    num_cases[i,:] = b_process_imgr(beta_logistic, delta, no_immigration, Z_init, dt)\n",
    "    for j in range(0, t_length):\n",
    "        if num_cases[i,j]==0:\n",
    "            num_extinct[j] = num_extinct[j]+1\n",
    "        if  num_cases_imgr[i,j] ==0:\n",
    "            num_zero_at_t[j] = num_zero_at_t[j]+1\n",
    "\n",
    "q_sim = num_extinct/numruns\n",
    "r_sim = num_zero_at_t/numruns"
   ]
  },
  {
   "cell_type": "code",
   "execution_count": 7,
   "metadata": {},
   "outputs": [
    {
     "data": {
      "text/plain": [
       "<matplotlib.legend.Legend at 0x15294781d0>"
      ]
     },
     "execution_count": 7,
     "metadata": {},
     "output_type": "execute_result"
    },
    {
     "data": {
      "image/png": "[encoded data removed]",
      "text/plain": [
       "<Figure size 432x288 with 1 Axes>"
      ]
     },
     "metadata": {
      "needs_background": "light"
     },
     "output_type": "display_data"
    }
   ],
   "source": [
    "#Plot results\n",
    "plt.figure()\n",
    "plt.plot(t, rr, label = 'P(Y(t)=0) = r(t)')\n",
    "plt.plot(t, r_sim, label = 'P(Y(t)=0) (simulated)', linestyle='dashed')\n",
    "plt.plot(t, q, label = 'P(Z(t)=0) = q(t)')\n",
    "plt.plot(t, q_sim, label = 'P(Z(t)=0) (simulated)', linestyle='dashed')\n",
    "plt.title('Extinction Probabilities')\n",
    "plt.xlabel('Days')\n",
    "plt.ylabel('Probability')\n",
    "plt.legend()"
   ]
  }
 ],
 "metadata": {
  "kernelspec": {
   "display_name": "Python 3",
   "language": "python",
   "name": "python3"
  },
  "language_info": {
   "codemirror_mode": {
    "name": "ipython",
    "version": 3
   },
   "file_extension": ".py",
   "mimetype": "text/x-python",
   "name": "python",
   "nbconvert_exporter": "python",
   "pygments_lexer": "ipython3",
   "version": "3.7.3"
  }
 },
 "nbformat": 4,
 "nbformat_minor": 2
}
