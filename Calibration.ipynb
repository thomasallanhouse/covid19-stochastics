{
 "cells": [
  {
   "cell_type": "markdown",
   "metadata": {},
   "source": [
    "# Contact Tracing Model Calibration"
   ]
  },
  {
   "cell_type": "code",
   "execution_count": 1,
   "metadata": {},
   "outputs": [],
   "source": [
    "import household_contact_tracing as model\n",
    "import numpy as np\n",
    "import seaborn as sns\n",
    "import statsmodels.api as sma\n",
    "import pandas as pd\n",
    "from patsy import dmatrices\n",
    "import scipy.stats as ss"
   ]
  },
  {
   "cell_type": "markdown",
   "metadata": {},
   "source": [
    "The model calibration class inherits from the base model class, so you are using the exact same code/distributions. The calibration estimates $R_0$ for the model using the methods of Pellis et al. The local and global infections are Monte-Carlo simulated, hence there is uncertainty in the output.\n",
    "\n",
    "In order to tune the models, we estimate $R_0$ over a variety of inputs, and fit a linear regression to the outputs."
   ]
  },
  {
   "cell_type": "code",
   "execution_count": 2,
   "metadata": {},
   "outputs": [
    {
     "name": "stdout",
     "output_type": "stream",
     "text": [
      "CPU times: user 48.2 s, sys: 650 ms, total: 48.8 s\n",
      "Wall time: 48.7 s\n"
     ]
    },
    {
     "data": {
      "text/plain": [
       "3.2385712190367495"
      ]
     },
     "execution_count": 2,
     "metadata": {},
     "output_type": "execute_result"
    }
   ],
   "source": [
    "%%time\n",
    "model_calibration = model.model_calibration(haz_rate_scale = 0.795,\n",
    "                                            contact_tracing_success_prob = 2/3,\n",
    "                                            prob_of_successful_contact_trace_today = 1/3,\n",
    "                                            infection_reporting_prob = 0.2,\n",
    "                                            reporting_delay_par = 1/4.8,\n",
    "                                            contact_trace = False,\n",
    "                                            reduce_contacts_by = 0)\n",
    "model_calibration.calculate_R0()"
   ]
  },
  {
   "cell_type": "code",
   "execution_count": 3,
   "metadata": {},
   "outputs": [
    {
     "name": "stdout",
     "output_type": "stream",
     "text": [
      "x values : 0.81   repeat: 99\r"
     ]
    }
   ],
   "source": [
    "x_vals = np.linspace(0.79, 0.81, 5)\n",
    "repetitions = 10\n",
    "hazard_rate_scale = []\n",
    "R0_estimate = []\n",
    "for x in x_vals:\n",
    "    model_calibration = model.model_calibration(haz_rate_scale = x,\n",
    "                                                contact_tracing_success_prob = 2/3,\n",
    "                                                prob_of_successful_contact_trace_today = 1/3,\n",
    "                                                infection_reporting_prob = 0.7,\n",
    "                                                reporting_delay_par = 1/4.8,\n",
    "                                                contact_trace = True,\n",
    "                                                reduce_contacts_by = 0)\n",
    "    for repeat in range(repetitions):\n",
    "        print(f\"x values : {x}   repeat: {repeat}\", end = \"\\r\")\n",
    "        hazard_rate_scale.append(x)\n",
    "        R0_estimate.append(model_calibration.calculate_R0())"
   ]
  },
  {
   "cell_type": "code",
   "execution_count": 4,
   "metadata": {},
   "outputs": [],
   "source": [
    "data = pd.DataFrame({\"hazard_rate_scale\": hazard_rate_scale,\n",
    "                     \"R0_estimate\": R0_estimate})"
   ]
  },
  {
   "cell_type": "code",
   "execution_count": 5,
   "metadata": {},
   "outputs": [
    {
     "data": {
      "image/png": "[encoded data removed]",
      "text/plain": [
       "<Figure size 360x360 with 1 Axes>"
      ]
     },
     "metadata": {
      "needs_background": "light"
     },
     "output_type": "display_data"
    }
   ],
   "source": [
    "plot = sns.lmplot(\"hazard_rate_scale\", \"R0_estimate\", data)"
   ]
  },
  {
   "cell_type": "code",
   "execution_count": 6,
   "metadata": {},
   "outputs": [
    {
     "name": "stdout",
     "output_type": "stream",
     "text": [
      "                            OLS Regression Results                            \n",
      "==============================================================================\n",
      "Dep. Variable:            R0_estimate   R-squared:                       0.867\n",
      "Model:                            OLS   Adj. R-squared:                  0.864\n",
      "Method:                 Least Squares   F-statistic:                     313.6\n",
      "Date:                Fri, 08 May 2020   Prob (F-statistic):           1.10e-22\n",
      "Time:                        00:13:05   Log-Likelihood:                 80.326\n",
      "No. Observations:                  50   AIC:                            -156.7\n",
      "Df Residuals:                      48   BIC:                            -152.8\n",
      "Df Model:                           1                                         \n",
      "Covariance Type:            nonrobust                                         \n",
      "=====================================================================================\n",
      "                        coef    std err          t      P>|t|      [0.025      0.975]\n",
      "-------------------------------------------------------------------------------------\n",
      "Intercept            17.1175      0.793     21.596      0.000      15.524      18.711\n",
      "hazard_rate_scale   -17.5444      0.991    -17.709      0.000     -19.536     -15.552\n",
      "==============================================================================\n",
      "Omnibus:                        1.054   Durbin-Watson:                   1.834\n",
      "Prob(Omnibus):                  0.590   Jarque-Bera (JB):                0.914\n",
      "Skew:                           0.321   Prob(JB):                        0.633\n",
      "Kurtosis:                       2.839   Cond. No.                         232.\n",
      "==============================================================================\n",
      "\n",
      "Warnings:\n",
      "[1] Standard Errors assume that the covariance matrix of the errors is correctly specified.\n"
     ]
    }
   ],
   "source": [
    "y, X = dmatrices('R0_estimate ~ hazard_rate_scale', \n",
    "                 data = data)\n",
    "model = sma.OLS(y, X)\n",
    "res = model.fit()\n",
    "print(res.summary())"
   ]
  },
  {
   "cell_type": "code",
   "execution_count": 7,
   "metadata": {},
   "outputs": [
    {
     "data": {
      "text/plain": [
       "0.8046709837153315"
      ]
     },
     "execution_count": 7,
     "metadata": {},
     "output_type": "execute_result"
    }
   ],
   "source": [
    "y = 3\n",
    "m = res.params[1]\n",
    "c = res.params[0]\n",
    "x = (y - c) / m\n",
    "x"
   ]
  },
  {
   "cell_type": "markdown",
   "metadata": {},
   "source": [
    "Therefore a hazard rate scale of 0.805 gives $R_0 = 3$"
   ]
  }
 ],
 "metadata": {
  "kernelspec": {
   "display_name": "Python 3",
   "language": "python",
   "name": "python3"
  },
  "language_info": {
   "codemirror_mode": {
    "name": "ipython",
    "version": 3
   },
   "file_extension": ".py",
   "mimetype": "text/x-python",
   "name": "python",
   "nbconvert_exporter": "python",
   "pygments_lexer": "ipython3",
   "version": "3.7.3"
  }
 },
 "nbformat": 4,
 "nbformat_minor": 4
}
